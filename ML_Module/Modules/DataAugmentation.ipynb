{
 "cells": [
  {
   "cell_type": "markdown",
   "metadata": {},
   "source": [
    "DATA AUGMENTATION "
   ]
  },
  {
   "cell_type": "code",
   "execution_count": 36,
   "metadata": {
    "id": "EEZIDSQtuUNK"
   },
   "outputs": [],
   "source": [
    "import pandas as pd\n",
    "import shutil\n",
    "import os\n",
    "from PIL import Image\n",
    "import torch\n",
    "from torchvision import datasets, transforms\n",
    "from torch.utils.data import DataLoader\n",
    "import os\n",
    "from PIL import Image\n",
    "import numpy as np\n",
    "from collections import Counter\n",
    "import shutil\n",
    "import cv2\n",
    "from typing_extensions import dataclass_transform"
   ]
  },
  {
   "cell_type": "code",
   "execution_count": 37,
   "metadata": {
    "colab": {
     "base_uri": "https://localhost:8080/",
     "height": 206
    },
    "id": "Jlw6neuquSOw",
    "outputId": "2213f997-4bf7-4fda-a8b3-bd3033a7763d"
   },
   "outputs": [
    {
     "data": {
      "text/html": [
       "<div>\n",
       "<style scoped>\n",
       "    .dataframe tbody tr th:only-of-type {\n",
       "        vertical-align: middle;\n",
       "    }\n",
       "\n",
       "    .dataframe tbody tr th {\n",
       "        vertical-align: top;\n",
       "    }\n",
       "\n",
       "    .dataframe thead th {\n",
       "        text-align: right;\n",
       "    }\n",
       "</style>\n",
       "<table border=\"1\" class=\"dataframe\">\n",
       "  <thead>\n",
       "    <tr style=\"text-align: right;\">\n",
       "      <th></th>\n",
       "      <th>lesion_id</th>\n",
       "      <th>image_id</th>\n",
       "      <th>dx</th>\n",
       "      <th>dx_type</th>\n",
       "      <th>age</th>\n",
       "      <th>sex</th>\n",
       "      <th>localization</th>\n",
       "    </tr>\n",
       "  </thead>\n",
       "  <tbody>\n",
       "    <tr>\n",
       "      <th>0</th>\n",
       "      <td>HAM_0000118</td>\n",
       "      <td>ISIC_0027419</td>\n",
       "      <td>bkl</td>\n",
       "      <td>histo</td>\n",
       "      <td>80.0</td>\n",
       "      <td>male</td>\n",
       "      <td>scalp</td>\n",
       "    </tr>\n",
       "    <tr>\n",
       "      <th>1</th>\n",
       "      <td>HAM_0000118</td>\n",
       "      <td>ISIC_0025030</td>\n",
       "      <td>bkl</td>\n",
       "      <td>histo</td>\n",
       "      <td>80.0</td>\n",
       "      <td>male</td>\n",
       "      <td>scalp</td>\n",
       "    </tr>\n",
       "    <tr>\n",
       "      <th>2</th>\n",
       "      <td>HAM_0002730</td>\n",
       "      <td>ISIC_0026769</td>\n",
       "      <td>bkl</td>\n",
       "      <td>histo</td>\n",
       "      <td>80.0</td>\n",
       "      <td>male</td>\n",
       "      <td>scalp</td>\n",
       "    </tr>\n",
       "    <tr>\n",
       "      <th>3</th>\n",
       "      <td>HAM_0002730</td>\n",
       "      <td>ISIC_0025661</td>\n",
       "      <td>bkl</td>\n",
       "      <td>histo</td>\n",
       "      <td>80.0</td>\n",
       "      <td>male</td>\n",
       "      <td>scalp</td>\n",
       "    </tr>\n",
       "    <tr>\n",
       "      <th>4</th>\n",
       "      <td>HAM_0001466</td>\n",
       "      <td>ISIC_0031633</td>\n",
       "      <td>bkl</td>\n",
       "      <td>histo</td>\n",
       "      <td>75.0</td>\n",
       "      <td>male</td>\n",
       "      <td>ear</td>\n",
       "    </tr>\n",
       "  </tbody>\n",
       "</table>\n",
       "</div>"
      ],
      "text/plain": [
       "     lesion_id      image_id   dx dx_type   age   sex localization\n",
       "0  HAM_0000118  ISIC_0027419  bkl   histo  80.0  male        scalp\n",
       "1  HAM_0000118  ISIC_0025030  bkl   histo  80.0  male        scalp\n",
       "2  HAM_0002730  ISIC_0026769  bkl   histo  80.0  male        scalp\n",
       "3  HAM_0002730  ISIC_0025661  bkl   histo  80.0  male        scalp\n",
       "4  HAM_0001466  ISIC_0031633  bkl   histo  75.0  male          ear"
      ]
     },
     "execution_count": 37,
     "metadata": {},
     "output_type": "execute_result"
    }
   ],
   "source": [
    "meta_data = pd.read_csv(r\"C:\\Users\\vindu\\Documents\\FYP_NEW\\ML_model\\archive\\HAM10000_metadata.csv\")\n",
    "meta_data.head()"
   ]
  },
  {
   "cell_type": "code",
   "execution_count": 38,
   "metadata": {
    "id": "gHJWFozXtEpp"
   },
   "outputs": [],
   "source": [
    "input_dir = r\"C:\\Users\\vindu\\Documents\\FYP_NEW\\ML_model\\archive\\Skin Cancer\\Skin Cancer\"\n",
    "output_dir = r\"C:\\Users\\vindu\\Documents\\FYP_NEW\\ML_model\\Skin_Cancer\\New_Dataset\"\n",
    "\n",
    "def is_rgb(image_path):\n",
    "    try:\n",
    "        with Image.open(image_path) as img:\n",
    "            return img.mode == \"RGB\"\n",
    "    except Exception as e:\n",
    "        print(f\"Error processing {image_path}: {e}\")\n",
    "        return False\n",
    "\n",
    "def filter_rgb_images(input_directory, output_directory):\n",
    "    if not os.path.exists(output_directory):\n",
    "        os.makedirs(output_directory)\n",
    "\n",
    "    for filename in os.listdir(input_directory):\n",
    "        file_path = os.path.join(input_directory, filename)\n",
    "\n",
    "        if is_rgb(file_path):\n",
    "            output_path = os.path.join(output_directory, filename)\n",
    "            os.rename(file_path, output_path)\n",
    "            print(f\"Moved {filename} to {output_directory}\")\n",
    "        else:\n",
    "            print(f\"{filename} is not an RGB image.\")\n",
    "\n",
    "# Example usage\n",
    "\n",
    "filter_rgb_images(input_dir, output_dir)\n"
   ]
  },
  {
   "cell_type": "code",
   "execution_count": 48,
   "metadata": {
    "id": "JktrGzmvtMV2"
   },
   "outputs": [],
   "source": [
    "# Sorting images into appropriate directories in order\n",
    "# to fascilitate real-time data augmentation while training.\n",
    "\n",
    "# Using the cancer type label for directory creation.\n",
    "dir_names = meta_data.dx.unique()\n",
    "\n",
    "# Data Sorting process.\n",
    "images_dir = r\"C:\\Users\\vindu\\Documents\\FYP_NEW\\ML_model\\Skin_Cancer\\New_Dataset\"\n",
    "train_images_dir = r\"C:\\Users\\vindu\\Documents\\FYP_NEW\\ML_model\\Skin_Cancer\\Train_Image\"\n",
    "\n",
    "\n",
    "def create_dirs(dir_path:str, dir_names:list):\n",
    "    \"\"\"\n",
    "    This function creates directories within specified directory path\n",
    "    with the provided list of directory names.\n",
    "\n",
    "    Inputs\n",
    "        dir_path:str - The path to which the new directories will reside in.\n",
    "        dir_names:list - List name(s) of directories to be created.\n",
    "    \"\"\"\n",
    "    # Looping through to create directories in new location.\n",
    "    for dir_name in dir_names:\n",
    "        try:\n",
    "            os.makedirs(os.path.join(dir_path, str(dir_name)))\n",
    "        except FileExistsError:\n",
    "            continue\n",
    "\n",
    "# Creating new directories.\n",
    "create_dirs(train_images_dir, dir_names)\n",
    "\n",
    "# Looping through each image in previous folder and\n",
    "# assigning them to the appropriate folder\n",
    "for image in os.scandir(images_dir):\n",
    "    try:\n",
    "        # attempting to rename image (moving to new dir).\n",
    "        img_name = image.name.split(\".\")[0]\n",
    "        img_cancer_type = str(meta_data.dx[meta_data.image_id == img_name].item()) # Retrieving the dx_label for image.\n",
    "        shutil.copy(os.path.join(images_dir, image.name), os.path.join(train_images_dir, img_cancer_type, image.name))\n",
    "    except Exception as e:\n",
    "        print(e)"
   ]
  },
  {
   "cell_type": "code",
   "execution_count": 49,
   "metadata": {
    "id": "B4tbDITFvQrB"
   },
   "outputs": [],
   "source": [
    "class SkinData:\n",
    "  def __init__(self, root, transform = True):\n",
    "      data_dirs = os.listdir(os.path.join(root,'Train_Image/'))\n",
    "      self.data_files = []\n",
    "      self.labels = []\n",
    "      label = 0\n",
    "      for dir in data_dirs:\n",
    "        path_name = os.path.join(root,'Train_Image/',dir)\n",
    "        data_samples = [os.path.join(path_name, fname) for fname in os.listdir(path_name)]\n",
    "        label_samples = label * np.ones(len(data_samples))\n",
    "        print(dir)\n",
    "        print(len(label_samples))\n",
    "        self.data_files.extend(data_samples)\n",
    "        self.labels.extend(label_samples)\n",
    "        self.transform = transform\n",
    "\n",
    "        label += 1\n",
    "\n",
    "  def __len__(self):\n",
    "    return len(self.data_files)\n",
    "\n",
    "  def __getitem__(self, index):\n",
    "    new_width = 256\n",
    "    new_height = 256\n",
    "    data_file = self.data_files[index]\n",
    "    image = np.array(cv2.imread(data_file))\n",
    "    label = np.array(self.labels[index])\n",
    "\n",
    "    data_sample = cv2.resize(image, (new_width, new_height))\n",
    "    resize_data = np.array(data_sample)\n",
    "\n",
    "\n",
    "    if self.transform:\n",
    "      data_sample = torch.from_numpy(data_sample)\n",
    "      lable = torch.from_numpy(label)\n",
    "\n",
    "\n",
    "\n",
    "    data_point = {'data_sample': data_sample, 'lable':lable}\n",
    "\n",
    "\n",
    "    return data_point"
   ]
  },
  {
   "cell_type": "code",
   "execution_count": 50,
   "metadata": {
    "id": "Z5kCZFuRv2cV"
   },
   "outputs": [],
   "source": [
    "# Define your data directory and output directory\n",
    "data_dir = r'C:\\Users\\vindu\\Documents\\FYP_NEW\\ML_model\\Skin_Cancer\\Train_Image'   # Folder where your dataset is stored (e.g., class folders)\n",
    "output_dir = r'C:\\Users\\vindu\\Documents\\FYP_NEW\\ML_model\\Skin_Cancer\\Balanced_dataset'  # Folder where the balanced dataset will be saved\n",
    "os.makedirs(output_dir, exist_ok=True)\n"
   ]
  },
  {
   "cell_type": "code",
   "execution_count": 54,
   "metadata": {},
   "outputs": [
    {
     "name": "stdout",
     "output_type": "stream",
     "text": [
      "There are 327 images of akiec.\n",
      "5% of akiec images is: 16.0\n",
      "\n",
      "There are 514 images of bcc.\n",
      "5% of bcc images is: 26.0\n",
      "\n",
      "There are 1099 images of bkl.\n",
      "5% of bkl images is: 55.0\n",
      "\n",
      "There are 115 images of df.\n",
      "5% of df images is: 6.0\n",
      "\n",
      "There are 1113 images of mel.\n",
      "5% of mel images is: 56.0\n",
      "\n",
      "There are 6705 images of nv.\n",
      "5% of nv images is: 335.0\n",
      "\n",
      "There are 142 images of vasc.\n",
      "5% of vasc images is: 7.0\n",
      "\n"
     ]
    }
   ],
   "source": [
    "import os\n",
    "import shutil\n",
    "\n",
    "\n",
    "def create_dirs(dir_path: str, dir_names: list):\n",
    "    \"\"\"\n",
    "    This function creates directories within a specified directory path\n",
    "    with the provided list of directory names.\n",
    "\n",
    "    Inputs:\n",
    "        dir_path: str - The path to which the new directories will reside in.\n",
    "        dir_names: list - List name(s) of directories to be created.\n",
    "    \"\"\"\n",
    "    for dir_name in dir_names:\n",
    "        try:\n",
    "            os.makedirs(os.path.join(dir_path, str(dir_name)))\n",
    "        except FileExistsError:\n",
    "            continue\n",
    "\n",
    "\n",
    "# Define the directories\n",
    "train_images_dir = r\"C:\\Users\\vindu\\Documents\\FYP_NEW\\ML_model\\Skin_Cancer\\Train_Image\"\n",
    "validation_images_dir = r\"C:\\Users\\vindu\\Documents\\FYP_NEW\\ML_model\\Skin_Cancer\\Validation_Image\"\n",
    "\n",
    "# Get the list of subdirectories (cancer types) from the train_images_dir\n",
    "dir_names = [name for name in os.listdir(train_images_dir) if os.path.isdir(os.path.join(train_images_dir, name))]\n",
    "\n",
    "inds = []  # list to contain directory names of each image.\n",
    "five_percent_content = {}  # Dictionary containing cancer type and the value that is 5% of total number of that type of cancer images.\n",
    "\n",
    "# Finding out how many images of each cancer type exist\n",
    "for dir_name in os.scandir(train_images_dir):  # Iterating over all train images folders.\n",
    "    for cancer_img in os.scandir(dir_name):    # Iterating over all images in all folders.\n",
    "        inds.append(os.path.basename(os.path.dirname(cancer_img.path)))  # Appending directory name.\n",
    "\n",
    "# Calculating number of specific type images & calculating what 5% of each image type will be.\n",
    "for directory in dir_names:\n",
    "    total_amt = inds.count(str(directory))\n",
    "    print(f\"There are {total_amt} images of {directory}.\")\n",
    "    print(f\"5% of {directory} images is: {round(total_amt * 0.05, 0)}\\n\")\n",
    "    five_percent_content[str(directory)] = round(total_amt * 0.05, 0)\n",
    "\n",
    "# Creating and populating validation set directory\n",
    "create_dirs(validation_images_dir, dir_names)\n",
    "\n",
    "# Moving 5% of each type into its respective validation folder.\n",
    "for sub_dir in os.scandir(train_images_dir):\n",
    "    images_paths = [image.path for image in os.scandir(sub_dir)]\n",
    "    for image_path in images_paths[:int(five_percent_content[str(sub_dir.name)])]:\n",
    "        image_category = sub_dir.name\n",
    "        shutil.move(image_path, os.path.join(validation_images_dir, image_category, os.path.basename(image_path)))\n"
   ]
  },
  {
   "cell_type": "code",
   "execution_count": 55,
   "metadata": {
    "id": "39zcgQfewc15"
   },
   "outputs": [],
   "source": [
    "# Define transformation for augmentation\n",
    "augmentation_transforms = transforms.Compose([\n",
    "    transforms.RandomRotation(20),\n",
    "    transforms.RandomHorizontalFlip(),\n",
    "    transforms.ColorJitter(brightness=0.2, contrast=0.2, saturation=0.2, hue=0.2),\n",
    "    transforms.ToTensor()\n",
    "])\n",
    "\n",
    "# Define transformation for original images\n",
    "original_transform = transforms.ToTensor()\n",
    "\n",
    "# Load the dataset\n",
    "dataset = datasets.ImageFolder(root=data_dir, transform=original_transform)\n",
    "dataloader = DataLoader(dataset, batch_size=1, shuffle=True)"
   ]
  },
  {
   "cell_type": "code",
   "execution_count": 58,
   "metadata": {
    "id": "t2zV0AVvwnhU"
   },
   "outputs": [],
   "source": [
    "# Count the number of images per class\n",
    "class_counts = Counter([label for _, label in dataset.samples])\n",
    "target_size = 1300 #max(class_counts.values())  # Set target size to the largest class size"
   ]
  },
  {
   "cell_type": "code",
   "execution_count": 59,
   "metadata": {
    "colab": {
     "base_uri": "https://localhost:8080/"
    },
    "id": "y6FIcVBTwyQY",
    "outputId": "79a7ecdf-f65a-4293-cd08-c2ee818d05de"
   },
   "outputs": [
    {
     "data": {
      "text/plain": [
       "Counter({5: 6370, 4: 1057, 2: 1044, 1: 488, 0: 311, 6: 135, 3: 109})"
      ]
     },
     "execution_count": 59,
     "metadata": {},
     "output_type": "execute_result"
    }
   ],
   "source": [
    "class_counts"
   ]
  },
  {
   "cell_type": "code",
   "execution_count": 60,
   "metadata": {
    "id": "rCrjkeg_w6yS"
   },
   "outputs": [],
   "source": [
    "# Function to save image to the appropriate class folder\n",
    "def save_image(tensor, class_name, img_name, augment=False):\n",
    "    img = transforms.ToPILImage()(tensor).convert(\"RGB\")\n",
    "    class_dir = os.path.join(output_dir, class_name)\n",
    "    os.makedirs(class_dir, exist_ok=True)\n",
    "    prefix = \"aug_\" if augment else \"orig_\"\n",
    "    img.save(os.path.join(class_dir, f\"{prefix}{img_name}.jpeg\"))\n",
    "\n",
    "# Function to augment images and save\n",
    "def augment_and_save_images(img, class_name, class_label, count_needed, j):\n",
    "    for i in range(count_needed):\n",
    "        augmented_img = augmentation_transforms(img)\n",
    "        save_image(augmented_img, class_name, f\"{j * count_needed - (count_needed - i+1)}\", augment=True)"
   ]
  },
  {
   "cell_type": "code",
   "execution_count": 61,
   "metadata": {
    "colab": {
     "base_uri": "https://localhost:8080/"
    },
    "id": "HoELmijQw74G",
    "outputId": "b12d0f20-e556-407d-c6e2-2cac924f8012"
   },
   "outputs": [
    {
     "data": {
      "text/plain": [
       "dict_items([('akiec', 0), ('bcc', 1), ('bkl', 2), ('df', 3), ('mel', 4), ('nv', 5), ('vasc', 6)])"
      ]
     },
     "execution_count": 61,
     "metadata": {},
     "output_type": "execute_result"
    }
   ],
   "source": [
    "dataset.class_to_idx.items()"
   ]
  },
  {
   "cell_type": "code",
   "execution_count": 62,
   "metadata": {
    "colab": {
     "base_uri": "https://localhost:8080/"
    },
    "id": "9fX64RMdw-V_",
    "outputId": "a5a6e3b2-265b-4303-d45e-786f18cc4456"
   },
   "outputs": [
    {
     "name": "stdout",
     "output_type": "stream",
     "text": [
      "akiec\n",
      "Augmenting class 'akiec' with 989 more images...\n",
      "3\n",
      "bcc\n",
      "Augmenting class 'bcc' with 812 more images...\n",
      "2\n",
      "bkl\n",
      "Augmenting class 'bkl' with 256 more images...\n",
      "0\n",
      "df\n",
      "Augmenting class 'df' with 1191 more images...\n",
      "11\n",
      "mel\n",
      "Augmenting class 'mel' with 243 more images...\n",
      "0\n",
      "nv\n",
      "Augmenting class 'nv' with -5070 more images...\n",
      "-1\n",
      "vasc\n",
      "Augmenting class 'vasc' with 1165 more images...\n",
      "9\n"
     ]
    }
   ],
   "source": [
    "# Balance the dataset\n",
    "for class_name, class_label in dataset.class_to_idx.items():\n",
    "    class_dir = os.path.join(data_dir, class_name)\n",
    "    class_images = [img for img, label in dataset.samples if label == class_label]\n",
    "\n",
    "    print(class_name)\n",
    "    # print(len(class_images))\n",
    "\n",
    "    # Current count of images in this class\n",
    "    current_count = len(class_images)\n",
    "    count_needed_original = target_size - current_count  # Calculate how many images are needed\n",
    "    print(f\"Augmenting class '{class_name}' with {count_needed_original} more images...\")\n",
    "    count_needed = round(count_needed_original/current_count)\n",
    "    print(count_needed)\n",
    "\n",
    "    # Augment images for this class if needed\n",
    "\n",
    "\n",
    "    for i, img in enumerate(class_images):\n",
    "        img = Image.open(img)\n",
    "        original_img = original_transform(img)\n",
    "        save_image(original_img, class_name, f\"{class_label}_{i}\", augment=False)\n",
    "        if count_needed > 0:\n",
    "          augment_and_save_images(img, class_name, class_label, count_needed, i+1)\n",
    "\n",
    "        if i > target_size:\n",
    "          break"
   ]
  },
  {
   "cell_type": "code",
   "execution_count": 63,
   "metadata": {
    "id": "cPN4Uf1_AjWD"
   },
   "outputs": [],
   "source": [
    "dataset_2 = datasets.ImageFolder(root=output_dir, transform=original_transform)\n",
    "class_counts = Counter([label for _, label in dataset_2.samples])"
   ]
  },
  {
   "cell_type": "code",
   "execution_count": 64,
   "metadata": {
    "colab": {
     "base_uri": "https://localhost:8080/"
    },
    "id": "-cNVyS1ZA1jy",
    "outputId": "b6b71dcd-83bc-4a3d-9524-c4881a57b7f3"
   },
   "outputs": [
    {
     "data": {
      "text/plain": [
       "Counter({1: 1464, 6: 1350, 3: 1308, 5: 1302, 0: 1244, 4: 1057, 2: 1044})"
      ]
     },
     "execution_count": 64,
     "metadata": {},
     "output_type": "execute_result"
    }
   ],
   "source": [
    "class_counts"
   ]
  },
  {
   "cell_type": "code",
   "execution_count": 65,
   "metadata": {},
   "outputs": [
    {
     "data": {
      "text/plain": [
       "(600, 450)"
      ]
     },
     "execution_count": 65,
     "metadata": {},
     "output_type": "execute_result"
    }
   ],
   "source": [
    "xx = Image.open(r'C:\\Users\\vindu\\Documents\\FYP_NEW\\ML_model\\Skin_Cancer\\balanced_dataset\\akiec\\aug_1.jpeg')\n",
    "xx.size"
   ]
  }
 ],
 "metadata": {
  "colab": {
   "provenance": []
  },
  "kernelspec": {
   "display_name": "my",
   "language": "python",
   "name": "python3"
  },
  "language_info": {
   "codemirror_mode": {
    "name": "ipython",
    "version": 3
   },
   "file_extension": ".py",
   "mimetype": "text/x-python",
   "name": "python",
   "nbconvert_exporter": "python",
   "pygments_lexer": "ipython3",
   "version": "3.9.19"
  }
 },
 "nbformat": 4,
 "nbformat_minor": 0
}
